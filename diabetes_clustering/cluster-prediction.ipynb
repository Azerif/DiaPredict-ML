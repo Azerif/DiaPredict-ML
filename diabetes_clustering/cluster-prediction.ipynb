{
 "cells": [
  {
   "cell_type": "markdown",
   "metadata": {},
   "source": [
    "# Import library"
   ]
  },
  {
   "cell_type": "code",
   "execution_count": 1,
   "metadata": {
    "execution": {
     "iopub.execute_input": "2025-05-29T13:49:56.179541Z",
     "iopub.status.busy": "2025-05-29T13:49:56.179130Z",
     "iopub.status.idle": "2025-05-29T13:50:20.608804Z",
     "shell.execute_reply": "2025-05-29T13:50:20.608262Z",
     "shell.execute_reply.started": "2025-05-29T13:49:56.179513Z"
    },
    "trusted": true
   },
   "outputs": [
    {
     "name": "stderr",
     "output_type": "stream",
     "text": [
      "2025-05-29 13:50:04.335637: E external/local_xla/xla/stream_executor/cuda/cuda_fft.cc:477] Unable to register cuFFT factory: Attempting to register factory for plugin cuFFT when one has already been registered\n",
      "WARNING: All log messages before absl::InitializeLog() is called are written to STDERR\n",
      "E0000 00:00:1748526604.766853      35 cuda_dnn.cc:8310] Unable to register cuDNN factory: Attempting to register factory for plugin cuDNN when one has already been registered\n",
      "E0000 00:00:1748526604.885790      35 cuda_blas.cc:1418] Unable to register cuBLAS factory: Attempting to register factory for plugin cuBLAS when one has already been registered\n"
     ]
    }
   ],
   "source": [
    "import pandas as pd\n",
    "import matplotlib.pyplot as plt\n",
    "import numpy as np\n",
    "import seaborn as sns\n",
    "from sklearn.model_selection import train_test_split\n",
    "from sklearn.preprocessing import StandardScaler, OneHotEncoder, LabelEncoder\n",
    "from sklearn.ensemble import RandomForestClassifier\n",
    "from sklearn.metrics import classification_report, confusion_matrix\n",
    "\n",
    "import tensorflow as tf\n",
    "from tensorflow.keras.callbacks import EarlyStopping, Callback\n",
    "from tensorflow.keras.models import Sequential\n",
    "from tensorflow.keras.layers import Dense, Dropout\n",
    "from tensorflow.keras.callbacks import EarlyStopping"
   ]
  },
  {
   "cell_type": "code",
   "execution_count": 2,
   "metadata": {
    "_cell_guid": "b1076dfc-b9ad-4769-8c92-a6c4dae69d19",
    "_uuid": "8f2839f25d086af736a60e9eeb907d3b93b6e0e5",
    "execution": {
     "iopub.execute_input": "2025-05-29T13:50:20.609801Z",
     "iopub.status.busy": "2025-05-29T13:50:20.609376Z",
     "iopub.status.idle": "2025-05-29T13:50:20.779899Z",
     "shell.execute_reply": "2025-05-29T13:50:20.779111Z",
     "shell.execute_reply.started": "2025-05-29T13:50:20.609782Z"
    },
    "trusted": true
   },
   "outputs": [
    {
     "name": "stdout",
     "output_type": "stream",
     "text": [
      "/kaggle/input/dataset-cluster-diabetes/diabetes_with_cluster.csv\n"
     ]
    }
   ],
   "source": [
    "import os\n",
    "for dirname, _, filenames in os.walk('/kaggle/input'):\n",
    "    for filename in filenames:\n",
    "        print(os.path.join(dirname, filename))\n",
    "        \n",
    "data_path = '/kaggle/input/dataset-cluster-diabetes/'\n",
    "df = pd.read_csv(data_path + \"diabetes_with_cluster.csv\")"
   ]
  },
  {
   "cell_type": "code",
   "execution_count": 3,
   "metadata": {
    "execution": {
     "iopub.execute_input": "2025-05-29T13:50:20.781724Z",
     "iopub.status.busy": "2025-05-29T13:50:20.781443Z",
     "iopub.status.idle": "2025-05-29T13:50:20.831240Z",
     "shell.execute_reply": "2025-05-29T13:50:20.830677Z",
     "shell.execute_reply.started": "2025-05-29T13:50:20.781701Z"
    },
    "trusted": true
   },
   "outputs": [
    {
     "name": "stdout",
     "output_type": "stream",
     "text": [
      "<class 'pandas.core.frame.DataFrame'>\n",
      "RangeIndex: 90370 entries, 0 to 90369\n",
      "Data columns (total 10 columns):\n",
      " #   Column               Non-Null Count  Dtype  \n",
      "---  ------               --------------  -----  \n",
      " 0   gender               90370 non-null  object \n",
      " 1   age                  90370 non-null  float64\n",
      " 2   hypertension         90370 non-null  int64  \n",
      " 3   heart_disease        90370 non-null  int64  \n",
      " 4   bmi                  90370 non-null  float64\n",
      " 5   HbA1c_level          90370 non-null  float64\n",
      " 6   blood_glucose_level  90370 non-null  float64\n",
      " 7   smoking_history      90370 non-null  object \n",
      " 8   diabetes             90370 non-null  int64  \n",
      " 9   Cluster              90370 non-null  int64  \n",
      "dtypes: float64(4), int64(4), object(2)\n",
      "memory usage: 6.9+ MB\n"
     ]
    }
   ],
   "source": [
    "df.info()"
   ]
  },
  {
   "cell_type": "code",
   "execution_count": 4,
   "metadata": {
    "execution": {
     "iopub.execute_input": "2025-05-29T13:50:20.832251Z",
     "iopub.status.busy": "2025-05-29T13:50:20.831961Z",
     "iopub.status.idle": "2025-05-29T13:50:20.887039Z",
     "shell.execute_reply": "2025-05-29T13:50:20.886506Z",
     "shell.execute_reply.started": "2025-05-29T13:50:20.832226Z"
    },
    "trusted": true
   },
   "outputs": [
    {
     "data": {
      "text/html": [
       "<div>\n",
       "<style scoped>\n",
       "    .dataframe tbody tr th:only-of-type {\n",
       "        vertical-align: middle;\n",
       "    }\n",
       "\n",
       "    .dataframe tbody tr th {\n",
       "        vertical-align: top;\n",
       "    }\n",
       "\n",
       "    .dataframe thead th {\n",
       "        text-align: right;\n",
       "    }\n",
       "</style>\n",
       "<table border=\"1\" class=\"dataframe\">\n",
       "  <thead>\n",
       "    <tr style=\"text-align: right;\">\n",
       "      <th></th>\n",
       "      <th>age</th>\n",
       "      <th>hypertension</th>\n",
       "      <th>heart_disease</th>\n",
       "      <th>bmi</th>\n",
       "      <th>HbA1c_level</th>\n",
       "      <th>blood_glucose_level</th>\n",
       "      <th>diabetes</th>\n",
       "      <th>Cluster</th>\n",
       "    </tr>\n",
       "  </thead>\n",
       "  <tbody>\n",
       "    <tr>\n",
       "      <th>count</th>\n",
       "      <td>90370.000000</td>\n",
       "      <td>90370.000000</td>\n",
       "      <td>90370.000000</td>\n",
       "      <td>90370.000000</td>\n",
       "      <td>90370.000000</td>\n",
       "      <td>90370.000000</td>\n",
       "      <td>90370.000000</td>\n",
       "      <td>90370.000000</td>\n",
       "    </tr>\n",
       "    <tr>\n",
       "      <th>mean</th>\n",
       "      <td>41.409836</td>\n",
       "      <td>0.065663</td>\n",
       "      <td>0.035631</td>\n",
       "      <td>26.317339</td>\n",
       "      <td>5.456331</td>\n",
       "      <td>134.571661</td>\n",
       "      <td>0.049740</td>\n",
       "      <td>1.414496</td>\n",
       "    </tr>\n",
       "    <tr>\n",
       "      <th>std</th>\n",
       "      <td>22.559391</td>\n",
       "      <td>0.247694</td>\n",
       "      <td>0.185370</td>\n",
       "      <td>4.878691</td>\n",
       "      <td>0.994841</td>\n",
       "      <td>35.198153</td>\n",
       "      <td>0.217408</td>\n",
       "      <td>1.123083</td>\n",
       "    </tr>\n",
       "    <tr>\n",
       "      <th>min</th>\n",
       "      <td>0.080000</td>\n",
       "      <td>0.000000</td>\n",
       "      <td>0.000000</td>\n",
       "      <td>14.710000</td>\n",
       "      <td>3.500000</td>\n",
       "      <td>80.000000</td>\n",
       "      <td>0.000000</td>\n",
       "      <td>0.000000</td>\n",
       "    </tr>\n",
       "    <tr>\n",
       "      <th>25%</th>\n",
       "      <td>23.000000</td>\n",
       "      <td>0.000000</td>\n",
       "      <td>0.000000</td>\n",
       "      <td>23.370000</td>\n",
       "      <td>4.800000</td>\n",
       "      <td>100.000000</td>\n",
       "      <td>0.000000</td>\n",
       "      <td>0.000000</td>\n",
       "    </tr>\n",
       "    <tr>\n",
       "      <th>50%</th>\n",
       "      <td>42.000000</td>\n",
       "      <td>0.000000</td>\n",
       "      <td>0.000000</td>\n",
       "      <td>27.320000</td>\n",
       "      <td>5.800000</td>\n",
       "      <td>140.000000</td>\n",
       "      <td>0.000000</td>\n",
       "      <td>1.000000</td>\n",
       "    </tr>\n",
       "    <tr>\n",
       "      <th>75%</th>\n",
       "      <td>59.000000</td>\n",
       "      <td>0.000000</td>\n",
       "      <td>0.000000</td>\n",
       "      <td>28.280000</td>\n",
       "      <td>6.200000</td>\n",
       "      <td>158.000000</td>\n",
       "      <td>0.000000</td>\n",
       "      <td>3.000000</td>\n",
       "    </tr>\n",
       "    <tr>\n",
       "      <th>max</th>\n",
       "      <td>80.000000</td>\n",
       "      <td>1.000000</td>\n",
       "      <td>1.000000</td>\n",
       "      <td>38.500000</td>\n",
       "      <td>8.200000</td>\n",
       "      <td>240.000000</td>\n",
       "      <td>1.000000</td>\n",
       "      <td>3.000000</td>\n",
       "    </tr>\n",
       "  </tbody>\n",
       "</table>\n",
       "</div>"
      ],
      "text/plain": [
       "                age  hypertension  heart_disease           bmi   HbA1c_level  \\\n",
       "count  90370.000000  90370.000000   90370.000000  90370.000000  90370.000000   \n",
       "mean      41.409836      0.065663       0.035631     26.317339      5.456331   \n",
       "std       22.559391      0.247694       0.185370      4.878691      0.994841   \n",
       "min        0.080000      0.000000       0.000000     14.710000      3.500000   \n",
       "25%       23.000000      0.000000       0.000000     23.370000      4.800000   \n",
       "50%       42.000000      0.000000       0.000000     27.320000      5.800000   \n",
       "75%       59.000000      0.000000       0.000000     28.280000      6.200000   \n",
       "max       80.000000      1.000000       1.000000     38.500000      8.200000   \n",
       "\n",
       "       blood_glucose_level      diabetes       Cluster  \n",
       "count         90370.000000  90370.000000  90370.000000  \n",
       "mean            134.571661      0.049740      1.414496  \n",
       "std              35.198153      0.217408      1.123083  \n",
       "min              80.000000      0.000000      0.000000  \n",
       "25%             100.000000      0.000000      0.000000  \n",
       "50%             140.000000      0.000000      1.000000  \n",
       "75%             158.000000      0.000000      3.000000  \n",
       "max             240.000000      1.000000      3.000000  "
      ]
     },
     "execution_count": 4,
     "metadata": {},
     "output_type": "execute_result"
    }
   ],
   "source": [
    "df.describe()"
   ]
  },
  {
   "cell_type": "code",
   "execution_count": 5,
   "metadata": {
    "execution": {
     "iopub.execute_input": "2025-05-29T13:50:20.888039Z",
     "iopub.status.busy": "2025-05-29T13:50:20.887791Z",
     "iopub.status.idle": "2025-05-29T13:50:20.902433Z",
     "shell.execute_reply": "2025-05-29T13:50:20.901859Z",
     "shell.execute_reply.started": "2025-05-29T13:50:20.888003Z"
    },
    "trusted": true
   },
   "outputs": [
    {
     "data": {
      "text/plain": [
       "gender                 0\n",
       "age                    0\n",
       "hypertension           0\n",
       "heart_disease          0\n",
       "bmi                    0\n",
       "HbA1c_level            0\n",
       "blood_glucose_level    0\n",
       "smoking_history        0\n",
       "diabetes               0\n",
       "Cluster                0\n",
       "dtype: int64"
      ]
     },
     "execution_count": 5,
     "metadata": {},
     "output_type": "execute_result"
    }
   ],
   "source": [
    "df.isnull().sum()"
   ]
  },
  {
   "cell_type": "code",
   "execution_count": 6,
   "metadata": {
    "execution": {
     "iopub.execute_input": "2025-05-29T13:50:20.903258Z",
     "iopub.status.busy": "2025-05-29T13:50:20.903037Z",
     "iopub.status.idle": "2025-05-29T13:50:20.932649Z",
     "shell.execute_reply": "2025-05-29T13:50:20.932125Z",
     "shell.execute_reply.started": "2025-05-29T13:50:20.903243Z"
    },
    "trusted": true
   },
   "outputs": [
    {
     "data": {
      "text/plain": [
       "3844"
      ]
     },
     "execution_count": 6,
     "metadata": {},
     "output_type": "execute_result"
    }
   ],
   "source": [
    "df.duplicated().sum()"
   ]
  },
  {
   "cell_type": "markdown",
   "metadata": {},
   "source": [
    "# Data Preparation"
   ]
  },
  {
   "cell_type": "code",
   "execution_count": 7,
   "metadata": {
    "execution": {
     "iopub.execute_input": "2025-05-29T13:50:20.933393Z",
     "iopub.status.busy": "2025-05-29T13:50:20.933210Z",
     "iopub.status.idle": "2025-05-29T13:50:20.952312Z",
     "shell.execute_reply": "2025-05-29T13:50:20.951437Z",
     "shell.execute_reply.started": "2025-05-29T13:50:20.933379Z"
    },
    "trusted": true
   },
   "outputs": [],
   "source": [
    "df.drop(df[df[\"gender\"]==\"Other\"].index,inplace=True)\n",
    "df.reset_index(drop=True,inplace=True)"
   ]
  },
  {
   "cell_type": "code",
   "execution_count": 8,
   "metadata": {
    "execution": {
     "iopub.execute_input": "2025-05-29T13:50:20.953775Z",
     "iopub.status.busy": "2025-05-29T13:50:20.953471Z",
     "iopub.status.idle": "2025-05-29T13:50:20.999405Z",
     "shell.execute_reply": "2025-05-29T13:50:20.998850Z",
     "shell.execute_reply.started": "2025-05-29T13:50:20.953751Z"
    },
    "trusted": true
   },
   "outputs": [
    {
     "data": {
      "text/html": [
       "<div>\n",
       "<style scoped>\n",
       "    .dataframe tbody tr th:only-of-type {\n",
       "        vertical-align: middle;\n",
       "    }\n",
       "\n",
       "    .dataframe tbody tr th {\n",
       "        vertical-align: top;\n",
       "    }\n",
       "\n",
       "    .dataframe thead th {\n",
       "        text-align: right;\n",
       "    }\n",
       "</style>\n",
       "<table border=\"1\" class=\"dataframe\">\n",
       "  <thead>\n",
       "    <tr style=\"text-align: right;\">\n",
       "      <th></th>\n",
       "      <th>gender</th>\n",
       "      <th>age</th>\n",
       "      <th>hypertension</th>\n",
       "      <th>heart_disease</th>\n",
       "      <th>bmi</th>\n",
       "      <th>HbA1c_level</th>\n",
       "      <th>blood_glucose_level</th>\n",
       "      <th>smoking_history</th>\n",
       "      <th>diabetes</th>\n",
       "      <th>Cluster</th>\n",
       "    </tr>\n",
       "  </thead>\n",
       "  <tbody>\n",
       "    <tr>\n",
       "      <th>0</th>\n",
       "      <td>Female</td>\n",
       "      <td>80.0</td>\n",
       "      <td>0</td>\n",
       "      <td>1</td>\n",
       "      <td>25.19</td>\n",
       "      <td>6.6</td>\n",
       "      <td>140.0</td>\n",
       "      <td>never_smoke</td>\n",
       "      <td>0</td>\n",
       "      <td>0</td>\n",
       "    </tr>\n",
       "    <tr>\n",
       "      <th>1</th>\n",
       "      <td>Female</td>\n",
       "      <td>54.0</td>\n",
       "      <td>0</td>\n",
       "      <td>0</td>\n",
       "      <td>27.32</td>\n",
       "      <td>6.6</td>\n",
       "      <td>80.0</td>\n",
       "      <td>no_info_smoke</td>\n",
       "      <td>0</td>\n",
       "      <td>1</td>\n",
       "    </tr>\n",
       "    <tr>\n",
       "      <th>2</th>\n",
       "      <td>Male</td>\n",
       "      <td>28.0</td>\n",
       "      <td>0</td>\n",
       "      <td>0</td>\n",
       "      <td>27.32</td>\n",
       "      <td>5.7</td>\n",
       "      <td>158.0</td>\n",
       "      <td>never_smoke</td>\n",
       "      <td>0</td>\n",
       "      <td>3</td>\n",
       "    </tr>\n",
       "    <tr>\n",
       "      <th>3</th>\n",
       "      <td>Female</td>\n",
       "      <td>36.0</td>\n",
       "      <td>0</td>\n",
       "      <td>0</td>\n",
       "      <td>23.45</td>\n",
       "      <td>5.0</td>\n",
       "      <td>155.0</td>\n",
       "      <td>current_smoke</td>\n",
       "      <td>0</td>\n",
       "      <td>3</td>\n",
       "    </tr>\n",
       "    <tr>\n",
       "      <th>4</th>\n",
       "      <td>Male</td>\n",
       "      <td>76.0</td>\n",
       "      <td>1</td>\n",
       "      <td>1</td>\n",
       "      <td>20.14</td>\n",
       "      <td>4.8</td>\n",
       "      <td>155.0</td>\n",
       "      <td>current_smoke</td>\n",
       "      <td>0</td>\n",
       "      <td>3</td>\n",
       "    </tr>\n",
       "    <tr>\n",
       "      <th>...</th>\n",
       "      <td>...</td>\n",
       "      <td>...</td>\n",
       "      <td>...</td>\n",
       "      <td>...</td>\n",
       "      <td>...</td>\n",
       "      <td>...</td>\n",
       "      <td>...</td>\n",
       "      <td>...</td>\n",
       "      <td>...</td>\n",
       "      <td>...</td>\n",
       "    </tr>\n",
       "    <tr>\n",
       "      <th>90364</th>\n",
       "      <td>Female</td>\n",
       "      <td>36.0</td>\n",
       "      <td>0</td>\n",
       "      <td>0</td>\n",
       "      <td>24.60</td>\n",
       "      <td>4.8</td>\n",
       "      <td>145.0</td>\n",
       "      <td>no_info_smoke</td>\n",
       "      <td>0</td>\n",
       "      <td>3</td>\n",
       "    </tr>\n",
       "    <tr>\n",
       "      <th>90366</th>\n",
       "      <td>Female</td>\n",
       "      <td>2.0</td>\n",
       "      <td>0</td>\n",
       "      <td>0</td>\n",
       "      <td>17.37</td>\n",
       "      <td>6.5</td>\n",
       "      <td>100.0</td>\n",
       "      <td>no_info_smoke</td>\n",
       "      <td>0</td>\n",
       "      <td>2</td>\n",
       "    </tr>\n",
       "    <tr>\n",
       "      <th>90367</th>\n",
       "      <td>Male</td>\n",
       "      <td>66.0</td>\n",
       "      <td>0</td>\n",
       "      <td>0</td>\n",
       "      <td>27.83</td>\n",
       "      <td>5.7</td>\n",
       "      <td>155.0</td>\n",
       "      <td>former_smoke</td>\n",
       "      <td>0</td>\n",
       "      <td>0</td>\n",
       "    </tr>\n",
       "    <tr>\n",
       "      <th>90368</th>\n",
       "      <td>Female</td>\n",
       "      <td>24.0</td>\n",
       "      <td>0</td>\n",
       "      <td>0</td>\n",
       "      <td>35.42</td>\n",
       "      <td>4.0</td>\n",
       "      <td>100.0</td>\n",
       "      <td>never_smoke</td>\n",
       "      <td>0</td>\n",
       "      <td>1</td>\n",
       "    </tr>\n",
       "    <tr>\n",
       "      <th>90369</th>\n",
       "      <td>Female</td>\n",
       "      <td>57.0</td>\n",
       "      <td>0</td>\n",
       "      <td>0</td>\n",
       "      <td>22.43</td>\n",
       "      <td>6.6</td>\n",
       "      <td>90.0</td>\n",
       "      <td>current_smoke</td>\n",
       "      <td>0</td>\n",
       "      <td>3</td>\n",
       "    </tr>\n",
       "  </tbody>\n",
       "</table>\n",
       "<p>86526 rows × 10 columns</p>\n",
       "</div>"
      ],
      "text/plain": [
       "       gender   age  hypertension  heart_disease    bmi  HbA1c_level  \\\n",
       "0      Female  80.0             0              1  25.19          6.6   \n",
       "1      Female  54.0             0              0  27.32          6.6   \n",
       "2        Male  28.0             0              0  27.32          5.7   \n",
       "3      Female  36.0             0              0  23.45          5.0   \n",
       "4        Male  76.0             1              1  20.14          4.8   \n",
       "...       ...   ...           ...            ...    ...          ...   \n",
       "90364  Female  36.0             0              0  24.60          4.8   \n",
       "90366  Female   2.0             0              0  17.37          6.5   \n",
       "90367    Male  66.0             0              0  27.83          5.7   \n",
       "90368  Female  24.0             0              0  35.42          4.0   \n",
       "90369  Female  57.0             0              0  22.43          6.6   \n",
       "\n",
       "       blood_glucose_level smoking_history  diabetes  Cluster  \n",
       "0                    140.0     never_smoke         0        0  \n",
       "1                     80.0   no_info_smoke         0        1  \n",
       "2                    158.0     never_smoke         0        3  \n",
       "3                    155.0   current_smoke         0        3  \n",
       "4                    155.0   current_smoke         0        3  \n",
       "...                    ...             ...       ...      ...  \n",
       "90364                145.0   no_info_smoke         0        3  \n",
       "90366                100.0   no_info_smoke         0        2  \n",
       "90367                155.0    former_smoke         0        0  \n",
       "90368                100.0     never_smoke         0        1  \n",
       "90369                 90.0   current_smoke         0        3  \n",
       "\n",
       "[86526 rows x 10 columns]"
      ]
     },
     "execution_count": 8,
     "metadata": {},
     "output_type": "execute_result"
    }
   ],
   "source": [
    "df.drop_duplicates()"
   ]
  },
  {
   "cell_type": "code",
   "execution_count": 9,
   "metadata": {
    "execution": {
     "iopub.execute_input": "2025-05-29T13:50:21.001776Z",
     "iopub.status.busy": "2025-05-29T13:50:21.001444Z",
     "iopub.status.idle": "2025-05-29T13:50:21.081765Z",
     "shell.execute_reply": "2025-05-29T13:50:21.081113Z",
     "shell.execute_reply.started": "2025-05-29T13:50:21.001761Z"
    },
    "trusted": true
   },
   "outputs": [
    {
     "name": "stdout",
     "output_type": "stream",
     "text": [
      "Train size: 72296\n",
      "Validation size: 9037\n",
      "Test size: 9037\n"
     ]
    }
   ],
   "source": [
    "# Pisahkan fitur dan target\n",
    "X = df.drop(columns=['Cluster', 'diabetes'])\n",
    "y = df['Cluster']\n",
    "\n",
    "# Split train (80%) dan sisa 20% dulu\n",
    "X_train, X_temp, y_train, y_temp = train_test_split(\n",
    "    X, y, test_size=0.2, stratify=y, random_state=42)\n",
    "\n",
    "# Split sisa 20% jadi val (10%) dan test (10%)\n",
    "X_val, X_test, y_val, y_test = train_test_split(\n",
    "    X_temp, y_temp, test_size=0.5, stratify=y_temp, random_state=42)\n",
    "\n",
    "print(\"Train size:\", X_train.shape[0])\n",
    "print(\"Validation size:\", X_val.shape[0])\n",
    "print(\"Test size:\", X_test.shape[0])\n",
    "\n",
    "# Fitur kategorikal dan numerik\n",
    "categorical_features = ['gender', 'smoking_history']\n",
    "numeric_features = ['age', 'hypertension', 'heart_disease', 'bmi', 'HbA1c_level', 'blood_glucose_level']\n",
    "\n",
    "# Label encoding untuk 'gender'\n",
    "le = LabelEncoder()\n",
    "X_train['gender'] = le.fit_transform(X_train['gender'])\n",
    "X_val['gender'] = le.transform(X_val['gender'])\n",
    "X_test['gender'] = le.transform(X_test['gender'])"
   ]
  },
  {
   "cell_type": "code",
   "execution_count": 10,
   "metadata": {
    "execution": {
     "iopub.execute_input": "2025-05-29T13:50:21.082600Z",
     "iopub.status.busy": "2025-05-29T13:50:21.082419Z",
     "iopub.status.idle": "2025-05-29T13:50:21.187212Z",
     "shell.execute_reply": "2025-05-29T13:50:21.186620Z",
     "shell.execute_reply.started": "2025-05-29T13:50:21.082586Z"
    },
    "trusted": true
   },
   "outputs": [],
   "source": [
    "# One-hot encoding untuk 'smoking_history'\n",
    "ohe = OneHotEncoder(handle_unknown='ignore', sparse_output=False)\n",
    "smoking_history_encoded_train = ohe.fit_transform(X_train[['smoking_history']])\n",
    "smoking_history_df_train = pd.DataFrame(smoking_history_encoded_train, columns=ohe.get_feature_names_out(['smoking_history']), index=X_train.index)\n",
    "X_train = pd.concat([X_train.drop(columns=['smoking_history']), smoking_history_df_train], axis=1)\n",
    "\n",
    "smoking_history_encoded_val = ohe.transform(X_val[['smoking_history']])\n",
    "smoking_history_df_val = pd.DataFrame(smoking_history_encoded_val, columns=ohe.get_feature_names_out(['smoking_history']), index=X_val.index)\n",
    "X_val = pd.concat([X_val.drop(columns=['smoking_history']), smoking_history_df_val], axis=1)\n",
    "\n",
    "smoking_history_encoded_test = ohe.transform(X_test[['smoking_history']])\n",
    "smoking_history_df_test = pd.DataFrame(smoking_history_encoded_test, columns=ohe.get_feature_names_out(['smoking_history']), index=X_test.index)\n",
    "X_test = pd.concat([X_test.drop(columns=['smoking_history']), smoking_history_df_test], axis=1)\n",
    "\n",
    "# Scaling hanya untuk fitur numerik\n",
    "scaler = StandardScaler()\n",
    "X_train[numeric_features] = scaler.fit_transform(X_train[numeric_features])\n",
    "X_val[numeric_features] = scaler.transform(X_val[numeric_features])\n",
    "X_test[numeric_features] = scaler.transform(X_test[numeric_features])"
   ]
  },
  {
   "cell_type": "markdown",
   "metadata": {},
   "source": [
    "# Modelling"
   ]
  },
  {
   "cell_type": "code",
   "execution_count": 11,
   "metadata": {
    "execution": {
     "iopub.execute_input": "2025-05-29T13:50:21.188244Z",
     "iopub.status.busy": "2025-05-29T13:50:21.187855Z",
     "iopub.status.idle": "2025-05-29T13:50:25.342417Z",
     "shell.execute_reply": "2025-05-29T13:50:25.341844Z",
     "shell.execute_reply.started": "2025-05-29T13:50:21.188226Z"
    },
    "trusted": true
   },
   "outputs": [
    {
     "name": "stderr",
     "output_type": "stream",
     "text": [
      "I0000 00:00:1748526623.490509      35 gpu_device.cc:2022] Created device /job:localhost/replica:0/task:0/device:GPU:0 with 13942 MB memory:  -> device: 0, name: Tesla T4, pci bus id: 0000:00:04.0, compute capability: 7.5\n",
      "I0000 00:00:1748526623.491238      35 gpu_device.cc:2022] Created device /job:localhost/replica:0/task:0/device:GPU:1 with 13942 MB memory:  -> device: 1, name: Tesla T4, pci bus id: 0000:00:05.0, compute capability: 7.5\n"
     ]
    },
    {
     "data": {
      "text/html": [
       "<pre style=\"white-space:pre;overflow-x:auto;line-height:normal;font-family:Menlo,'DejaVu Sans Mono',consolas,'Courier New',monospace\"><span style=\"font-weight: bold\">Model: \"sequential\"</span>\n",
       "</pre>\n"
      ],
      "text/plain": [
       "\u001b[1mModel: \"sequential\"\u001b[0m\n"
      ]
     },
     "metadata": {},
     "output_type": "display_data"
    },
    {
     "data": {
      "text/html": [
       "<pre style=\"white-space:pre;overflow-x:auto;line-height:normal;font-family:Menlo,'DejaVu Sans Mono',consolas,'Courier New',monospace\">┏━━━━━━━━━━━━━━━━━━━━━━━━━━━━━━━━━━━━━━┳━━━━━━━━━━━━━━━━━━━━━━━━━━━━━┳━━━━━━━━━━━━━━━━━┓\n",
       "┃<span style=\"font-weight: bold\"> Layer (type)                         </span>┃<span style=\"font-weight: bold\"> Output Shape                </span>┃<span style=\"font-weight: bold\">         Param # </span>┃\n",
       "┡━━━━━━━━━━━━━━━━━━━━━━━━━━━━━━━━━━━━━━╇━━━━━━━━━━━━━━━━━━━━━━━━━━━━━╇━━━━━━━━━━━━━━━━━┩\n",
       "│ dense (<span style=\"color: #0087ff; text-decoration-color: #0087ff\">Dense</span>)                        │ (<span style=\"color: #00d7ff; text-decoration-color: #00d7ff\">None</span>, <span style=\"color: #00af00; text-decoration-color: #00af00\">128</span>)                 │           <span style=\"color: #00af00; text-decoration-color: #00af00\">1,792</span> │\n",
       "├──────────────────────────────────────┼─────────────────────────────┼─────────────────┤\n",
       "│ dense_1 (<span style=\"color: #0087ff; text-decoration-color: #0087ff\">Dense</span>)                      │ (<span style=\"color: #00d7ff; text-decoration-color: #00d7ff\">None</span>, <span style=\"color: #00af00; text-decoration-color: #00af00\">64</span>)                  │           <span style=\"color: #00af00; text-decoration-color: #00af00\">8,256</span> │\n",
       "├──────────────────────────────────────┼─────────────────────────────┼─────────────────┤\n",
       "│ dense_2 (<span style=\"color: #0087ff; text-decoration-color: #0087ff\">Dense</span>)                      │ (<span style=\"color: #00d7ff; text-decoration-color: #00d7ff\">None</span>, <span style=\"color: #00af00; text-decoration-color: #00af00\">4</span>)                   │             <span style=\"color: #00af00; text-decoration-color: #00af00\">260</span> │\n",
       "└──────────────────────────────────────┴─────────────────────────────┴─────────────────┘\n",
       "</pre>\n"
      ],
      "text/plain": [
       "┏━━━━━━━━━━━━━━━━━━━━━━━━━━━━━━━━━━━━━━┳━━━━━━━━━━━━━━━━━━━━━━━━━━━━━┳━━━━━━━━━━━━━━━━━┓\n",
       "┃\u001b[1m \u001b[0m\u001b[1mLayer (type)                        \u001b[0m\u001b[1m \u001b[0m┃\u001b[1m \u001b[0m\u001b[1mOutput Shape               \u001b[0m\u001b[1m \u001b[0m┃\u001b[1m \u001b[0m\u001b[1m        Param #\u001b[0m\u001b[1m \u001b[0m┃\n",
       "┡━━━━━━━━━━━━━━━━━━━━━━━━━━━━━━━━━━━━━━╇━━━━━━━━━━━━━━━━━━━━━━━━━━━━━╇━━━━━━━━━━━━━━━━━┩\n",
       "│ dense (\u001b[38;5;33mDense\u001b[0m)                        │ (\u001b[38;5;45mNone\u001b[0m, \u001b[38;5;34m128\u001b[0m)                 │           \u001b[38;5;34m1,792\u001b[0m │\n",
       "├──────────────────────────────────────┼─────────────────────────────┼─────────────────┤\n",
       "│ dense_1 (\u001b[38;5;33mDense\u001b[0m)                      │ (\u001b[38;5;45mNone\u001b[0m, \u001b[38;5;34m64\u001b[0m)                  │           \u001b[38;5;34m8,256\u001b[0m │\n",
       "├──────────────────────────────────────┼─────────────────────────────┼─────────────────┤\n",
       "│ dense_2 (\u001b[38;5;33mDense\u001b[0m)                      │ (\u001b[38;5;45mNone\u001b[0m, \u001b[38;5;34m4\u001b[0m)                   │             \u001b[38;5;34m260\u001b[0m │\n",
       "└──────────────────────────────────────┴─────────────────────────────┴─────────────────┘\n"
      ]
     },
     "metadata": {},
     "output_type": "display_data"
    },
    {
     "data": {
      "text/html": [
       "<pre style=\"white-space:pre;overflow-x:auto;line-height:normal;font-family:Menlo,'DejaVu Sans Mono',consolas,'Courier New',monospace\"><span style=\"font-weight: bold\"> Total params: </span><span style=\"color: #00af00; text-decoration-color: #00af00\">10,308</span> (40.27 KB)\n",
       "</pre>\n"
      ],
      "text/plain": [
       "\u001b[1m Total params: \u001b[0m\u001b[38;5;34m10,308\u001b[0m (40.27 KB)\n"
      ]
     },
     "metadata": {},
     "output_type": "display_data"
    },
    {
     "data": {
      "text/html": [
       "<pre style=\"white-space:pre;overflow-x:auto;line-height:normal;font-family:Menlo,'DejaVu Sans Mono',consolas,'Courier New',monospace\"><span style=\"font-weight: bold\"> Trainable params: </span><span style=\"color: #00af00; text-decoration-color: #00af00\">10,308</span> (40.27 KB)\n",
       "</pre>\n"
      ],
      "text/plain": [
       "\u001b[1m Trainable params: \u001b[0m\u001b[38;5;34m10,308\u001b[0m (40.27 KB)\n"
      ]
     },
     "metadata": {},
     "output_type": "display_data"
    },
    {
     "data": {
      "text/html": [
       "<pre style=\"white-space:pre;overflow-x:auto;line-height:normal;font-family:Menlo,'DejaVu Sans Mono',consolas,'Courier New',monospace\"><span style=\"font-weight: bold\"> Non-trainable params: </span><span style=\"color: #00af00; text-decoration-color: #00af00\">0</span> (0.00 B)\n",
       "</pre>\n"
      ],
      "text/plain": [
       "\u001b[1m Non-trainable params: \u001b[0m\u001b[38;5;34m0\u001b[0m (0.00 B)\n"
      ]
     },
     "metadata": {},
     "output_type": "display_data"
    }
   ],
   "source": [
    "# Tentukan input shape dan jumlah kelas\n",
    "input_dim = X_train.shape[1]\n",
    "num_classes = len(y_train.unique())\n",
    "\n",
    "# Callback custom untuk stop training saat val_accuracy >= 96%\n",
    "class EarlyStoppingAtAccuracy(tf.keras.callbacks.Callback):\n",
    "    def __init__(self, accuracy=0.96):\n",
    "        super().__init__()\n",
    "        self.target_accuracy = accuracy\n",
    "\n",
    "    def on_epoch_end(self, epoch, logs=None):\n",
    "        val_acc = logs.get(\"val_accuracy\")\n",
    "        if val_acc is not None:\n",
    "            if val_acc >= self.target_accuracy:\n",
    "                print(f\"\\n🎉 Target val_accuracy >= {self.target_accuracy*100}% tercapai di epoch {epoch+1}, menghentikan training.\")\n",
    "                self.model.stop_training = True\n",
    "\n",
    "# Build model sequential sederhana\n",
    "model = tf.keras.Sequential([\n",
    "    tf.keras.layers.InputLayer(shape=(input_dim,)),\n",
    "    tf.keras.layers.Dense(128, activation='relu'),\n",
    "    tf.keras.layers.Dense(64, activation='relu'),\n",
    "    tf.keras.layers.Dense(num_classes, activation='softmax')\n",
    "])\n",
    "\n",
    "model.compile(\n",
    "    optimizer='adam',\n",
    "    loss='sparse_categorical_crossentropy',\n",
    "    metrics=['accuracy']\n",
    ")\n",
    "\n",
    "model.summary()"
   ]
  },
  {
   "cell_type": "code",
   "execution_count": 12,
   "metadata": {
    "execution": {
     "iopub.execute_input": "2025-05-29T13:50:25.343510Z",
     "iopub.status.busy": "2025-05-29T13:50:25.343158Z",
     "iopub.status.idle": "2025-05-29T13:50:35.174361Z",
     "shell.execute_reply": "2025-05-29T13:50:35.173718Z",
     "shell.execute_reply.started": "2025-05-29T13:50:25.343487Z"
    },
    "trusted": true
   },
   "outputs": [
    {
     "name": "stdout",
     "output_type": "stream",
     "text": [
      "Epoch 1/50\n"
     ]
    },
    {
     "name": "stderr",
     "output_type": "stream",
     "text": [
      "WARNING: All log messages before absl::InitializeLog() is called are written to STDERR\n",
      "I0000 00:00:1748526626.928961      99 service.cc:148] XLA service 0x7eca7c00f240 initialized for platform CUDA (this does not guarantee that XLA will be used). Devices:\n",
      "I0000 00:00:1748526626.930267      99 service.cc:156]   StreamExecutor device (0): Tesla T4, Compute Capability 7.5\n",
      "I0000 00:00:1748526626.930289      99 service.cc:156]   StreamExecutor device (1): Tesla T4, Compute Capability 7.5\n",
      "I0000 00:00:1748526627.205035      99 cuda_dnn.cc:529] Loaded cuDNN version 90300\n"
     ]
    },
    {
     "name": "stdout",
     "output_type": "stream",
     "text": [
      "\u001b[1m  76/2260\u001b[0m \u001b[37m━━━━━━━━━━━━━━━━━━━━\u001b[0m \u001b[1m4s\u001b[0m 2ms/step - accuracy: 0.6418 - loss: 0.9758"
     ]
    },
    {
     "name": "stderr",
     "output_type": "stream",
     "text": [
      "I0000 00:00:1748526628.168388      99 device_compiler.h:188] Compiled cluster using XLA!  This line is logged at most once for the lifetime of the process.\n"
     ]
    },
    {
     "name": "stdout",
     "output_type": "stream",
     "text": [
      "\u001b[1m2260/2260\u001b[0m \u001b[32m━━━━━━━━━━━━━━━━━━━━\u001b[0m\u001b[37m\u001b[0m \u001b[1m0s\u001b[0m 2ms/step - accuracy: 0.9357 - loss: 0.2025\n",
      "🎉 Target val_accuracy >= 96.0% tercapai di epoch 1, menghentikan training.\n",
      "\u001b[1m2260/2260\u001b[0m \u001b[32m━━━━━━━━━━━━━━━━━━━━\u001b[0m\u001b[37m\u001b[0m \u001b[1m9s\u001b[0m 3ms/step - accuracy: 0.9357 - loss: 0.2025 - val_accuracy: 0.9821 - val_loss: 0.0419\n",
      "🎯 Test Accuracy: 98.28%\n"
     ]
    }
   ],
   "source": [
    "# Training model dengan callback\n",
    "callbacks = [EarlyStoppingAtAccuracy(accuracy=0.96)]\n",
    "\n",
    "history = model.fit(\n",
    "    X_train, y_train,\n",
    "    validation_data=(X_val, y_val),\n",
    "    epochs=50,\n",
    "    batch_size=32,\n",
    "    callbacks=callbacks\n",
    ")\n",
    "\n",
    "# Evaluasi di test set\n",
    "test_loss, test_acc = model.evaluate(X_test, y_test, verbose=0)\n",
    "print(f\"🎯 Test Accuracy: {test_acc:.2%}\")"
   ]
  },
  {
   "cell_type": "markdown",
   "metadata": {},
   "source": [
    "# Evaluation"
   ]
  },
  {
   "cell_type": "code",
   "execution_count": 13,
   "metadata": {
    "execution": {
     "iopub.execute_input": "2025-05-29T13:50:35.175348Z",
     "iopub.status.busy": "2025-05-29T13:50:35.175081Z",
     "iopub.status.idle": "2025-05-29T13:50:36.398460Z",
     "shell.execute_reply": "2025-05-29T13:50:36.397789Z",
     "shell.execute_reply.started": "2025-05-29T13:50:35.175326Z"
    },
    "trusted": true
   },
   "outputs": [
    {
     "name": "stdout",
     "output_type": "stream",
     "text": [
      "\u001b[1m283/283\u001b[0m \u001b[32m━━━━━━━━━━━━━━━━━━━━\u001b[0m\u001b[37m\u001b[0m \u001b[1m1s\u001b[0m 2ms/step\n",
      "\n",
      "--- Classification Report ---\n",
      "              precision    recall  f1-score   support\n",
      "\n",
      "   Cluster 0       0.98      0.99      0.98      2314\n",
      "   Cluster 1       0.99      0.98      0.98      2952\n",
      "   Cluster 2       0.98      1.00      0.99      1483\n",
      "   Cluster 3       0.98      0.98      0.98      2288\n",
      "\n",
      "    accuracy                           0.98      9037\n",
      "   macro avg       0.98      0.98      0.98      9037\n",
      "weighted avg       0.98      0.98      0.98      9037\n",
      "\n",
      "\n",
      "--- Confusion Matrix ---\n",
      "[[2286    9    0   19]\n",
      " [  26 2879   19   28]\n",
      " [   0    0 1477    6]\n",
      " [  25    6   17 2240]]\n"
     ]
    },
    {
     "data": {
      "image/png": "[encoded data removed]",
      "text/plain": [
       "<Figure size 800x600 with 2 Axes>"
      ]
     },
     "metadata": {},
     "output_type": "display_data"
    }
   ],
   "source": [
    "# Mendapatkan probabilitas prediksi dari model\n",
    "y_pred_proba = model.predict(X_test)\n",
    "\n",
    "y_pred = np.argmax(y_pred_proba, axis=1)\n",
    "\n",
    "# --- Cetak Classification Report ---\n",
    "print(\"\\n--- Classification Report ---\")\n",
    "# Menentukan nama-nama kelas untuk laporan (opsional, tapi disarankan)\n",
    "# Pastikan ini sesuai dengan nilai unik di kolom 'Cluster' Anda.\n",
    "target_names = [f'Cluster {i}' for i in sorted(np.unique(y_test))] # Mengambil nama kelas dari y_test\n",
    "\n",
    "print(classification_report(y_test, y_pred, target_names=target_names))\n",
    "\n",
    "# --- Cetak Confusion Matrix ---\n",
    "print(\"\\n--- Confusion Matrix ---\")\n",
    "cm = confusion_matrix(y_test, y_pred)\n",
    "print(cm)\n",
    "\n",
    "# Visualisasi Confusion Matrix (Opsional, tapi sangat direkomendasikan untuk interpretasi)\n",
    "plt.figure(figsize=(8, 6))\n",
    "sns.heatmap(cm, annot=True, fmt=\"d\", cmap=\"Blues\", xticklabels=target_names, yticklabels=target_names)\n",
    "plt.title('Confusion Matrix')\n",
    "plt.xlabel('Predicted Label')\n",
    "plt.ylabel('True Label')\n",
    "plt.show()"
   ]
  },
  {
   "cell_type": "code",
   "execution_count": 14,
   "metadata": {
    "execution": {
     "iopub.execute_input": "2025-05-29T13:50:36.399373Z",
     "iopub.status.busy": "2025-05-29T13:50:36.399166Z",
     "iopub.status.idle": "2025-05-29T13:50:36.402590Z",
     "shell.execute_reply": "2025-05-29T13:50:36.401898Z",
     "shell.execute_reply.started": "2025-05-29T13:50:36.399357Z"
    },
    "trusted": true
   },
   "outputs": [],
   "source": [
    "# plt.figure(figsize=(8,5))\n",
    "# plt.plot(history.history['accuracy'], label='Training Accuracy')\n",
    "# plt.plot(history.history['val_accuracy'], label='Validation Accuracy')\n",
    "# plt.xlabel('Epoch')\n",
    "# plt.ylabel('Accuracy')\n",
    "# plt.title('Training and Validation Accuracy')\n",
    "# plt.legend()\n",
    "# plt.grid(True)\n",
    "# plt.show()"
   ]
  },
  {
   "cell_type": "markdown",
   "metadata": {},
   "source": [
    "# Inference"
   ]
  },
  {
   "cell_type": "code",
   "execution_count": 15,
   "metadata": {
    "execution": {
     "iopub.execute_input": "2025-05-29T13:50:36.403670Z",
     "iopub.status.busy": "2025-05-29T13:50:36.403427Z",
     "iopub.status.idle": "2025-05-29T13:50:37.182655Z",
     "shell.execute_reply": "2025-05-29T13:50:37.181840Z",
     "shell.execute_reply.started": "2025-05-29T13:50:36.403655Z"
    },
    "trusted": true
   },
   "outputs": [
    {
     "name": "stdout",
     "output_type": "stream",
     "text": [
      "Saved artifact at '/tmp/tmprt0l7z2u'. The following endpoints are available:\n",
      "\n",
      "* Endpoint 'serve'\n",
      "  args_0 (POSITIONAL_ONLY): TensorSpec(shape=(None, 13), dtype=tf.float32, name='keras_tensor')\n",
      "Output Type:\n",
      "  TensorSpec(shape=(None, 4), dtype=tf.float32, name=None)\n",
      "Captures:\n",
      "  139412442362704: TensorSpec(shape=(), dtype=tf.resource, name=None)\n",
      "  139412442363664: TensorSpec(shape=(), dtype=tf.resource, name=None)\n",
      "  139412431531344: TensorSpec(shape=(), dtype=tf.resource, name=None)\n",
      "  139412431532880: TensorSpec(shape=(), dtype=tf.resource, name=None)\n",
      "  139412442362896: TensorSpec(shape=(), dtype=tf.resource, name=None)\n",
      "  139412431530576: TensorSpec(shape=(), dtype=tf.resource, name=None)\n",
      "\n",
      "Model klasifikasi cluster berhasil dikonversi dan disimpan sebagai 'cluster_predictor.tflite'\n"
     ]
    },
    {
     "name": "stderr",
     "output_type": "stream",
     "text": [
      "W0000 00:00:1748526637.004778      35 tf_tfl_flatbuffer_helpers.cc:365] Ignored output_format.\n",
      "W0000 00:00:1748526637.004806      35 tf_tfl_flatbuffer_helpers.cc:368] Ignored drop_control_dependency.\n",
      "I0000 00:00:1748526637.009506      35 mlir_graph_optimization_pass.cc:401] MLIR V1 optimization pass is not enabled\n"
     ]
    }
   ],
   "source": [
    "# Konversi Model Klasifikasi Keras ke TensorFlow Lite ---\n",
    "converter = tf.lite.TFLiteConverter.from_keras_model(model)\n",
    "tflite_model_cluster = converter.convert()\n",
    "\n",
    "# Simpan model TFLite\n",
    "with open('cluster_predictor.tflite', 'wb') as f:\n",
    "    f.write(tflite_model_cluster)\n",
    "print(\"\\nModel klasifikasi cluster berhasil dikonversi dan disimpan sebagai 'cluster_predictor.tflite'\")"
   ]
  },
  {
   "cell_type": "code",
   "execution_count": 16,
   "metadata": {
    "execution": {
     "iopub.execute_input": "2025-05-29T13:50:37.183811Z",
     "iopub.status.busy": "2025-05-29T13:50:37.183538Z",
     "iopub.status.idle": "2025-05-29T13:50:37.344173Z",
     "shell.execute_reply": "2025-05-29T13:50:37.343218Z",
     "shell.execute_reply.started": "2025-05-29T13:50:37.183786Z"
    },
    "trusted": true
   },
   "outputs": [
    {
     "name": "stdout",
     "output_type": "stream",
     "text": [
      "Model TFLite berhasil dimuat dari cluster_predictor.tflite\n",
      "Input shape: [ 1 13]\n",
      "Output shape: [1 4]\n",
      "Preprocessors berhasil di-fit dengan data training\n",
      "\n",
      "✅ ClusterPredictor berhasil diinisialisasi dan siap digunakan!\n",
      "Smoking history categories: ['current_smoke' 'ever_smoke' 'former_smoke' 'never_smoke'\n",
      " 'no_current_smoke' 'no_info_smoke']\n",
      "Gender categories: ['Female' 'Male']\n"
     ]
    },
    {
     "name": "stderr",
     "output_type": "stream",
     "text": [
      "INFO: Created TensorFlow Lite XNNPACK delegate for CPU.\n"
     ]
    }
   ],
   "source": [
    "class ClusterPredictor:\n",
    "    def __init__(self, model_path='cluster_predictor.tflite'):\n",
    "        \"\"\"\n",
    "        Inisialisasi ClusterPredictor dengan model TFLite\n",
    "        \n",
    "        Args:\n",
    "            model_path (str): Path ke file model TFLite\n",
    "        \"\"\"\n",
    "        # Load TFLite model\n",
    "        self.interpreter = tf.lite.Interpreter(model_path=model_path)\n",
    "        self.interpreter.allocate_tensors()\n",
    "        \n",
    "        # Get input and output tensors\n",
    "        self.input_details = self.interpreter.get_input_details()\n",
    "        self.output_details = self.interpreter.get_output_details()\n",
    "        \n",
    "        # Inisialisasi preprocessors (akan di-fit dengan data training)\n",
    "        self.label_encoder = None\n",
    "        self.onehot_encoder = None\n",
    "        self.scaler = None\n",
    "        self.numeric_features = ['age', 'hypertension', 'heart_disease', 'bmi', 'HbA1c_level', 'blood_glucose_level']\n",
    "        \n",
    "        print(f\"Model TFLite berhasil dimuat dari {model_path}\")\n",
    "        print(f\"Input shape: {self.input_details[0]['shape']}\")\n",
    "        print(f\"Output shape: {self.output_details[0]['shape']}\")\n",
    "    \n",
    "    def fit_preprocessors(self, X_train_original):\n",
    "        \"\"\"\n",
    "        Fit preprocessors dengan data training original (sebelum preprocessing)\n",
    "        \n",
    "        Args:\n",
    "            X_train_original (pd.DataFrame): Data training original untuk fitting preprocessors\n",
    "        \"\"\"\n",
    "        # Fit Label Encoder untuk gender\n",
    "        self.label_encoder = LabelEncoder()\n",
    "        self.label_encoder.fit(X_train_original['gender'])\n",
    "        \n",
    "        # Fit One-Hot Encoder untuk smoking_history\n",
    "        self.onehot_encoder = OneHotEncoder(handle_unknown='ignore', sparse_output=False)\n",
    "        self.onehot_encoder.fit(X_train_original[['smoking_history']])\n",
    "        \n",
    "        # Fit StandardScaler untuk fitur numerik\n",
    "        self.scaler = StandardScaler()\n",
    "        self.scaler.fit(X_train_original[self.numeric_features])\n",
    "        \n",
    "        print(\"Preprocessors berhasil di-fit dengan data training\")\n",
    "    \n",
    "    def preprocess_data(self, data):\n",
    "        \"\"\"\n",
    "        Preprocessing data sesuai dengan tahap training\n",
    "        \n",
    "        Args:\n",
    "            data (pd.DataFrame): Data yang akan dipreprocessing\n",
    "            \n",
    "        Returns:\n",
    "            np.ndarray: Data yang sudah dipreprocessing\n",
    "        \"\"\"\n",
    "        # Copy data untuk menghindari modifikasi original\n",
    "        X = data.copy()\n",
    "        \n",
    "        # Pastikan kolom yang diperlukan ada\n",
    "        required_columns = ['gender', 'age', 'hypertension', 'heart_disease', 'bmi', 'HbA1c_level', 'blood_glucose_level', 'smoking_history']\n",
    "        missing_columns = [col for col in required_columns if col not in X.columns]\n",
    "        if missing_columns:\n",
    "            raise ValueError(f\"Kolom yang hilang: {missing_columns}\")\n",
    "        \n",
    "        # Label encoding untuk gender\n",
    "        if self.label_encoder is None:\n",
    "            raise ValueError(\"Label encoder belum di-fit. Jalankan fit_preprocessors() terlebih dahulu.\")\n",
    "        X['gender'] = self.label_encoder.transform(X['gender'])\n",
    "        \n",
    "        # One-hot encoding untuk smoking_history\n",
    "        if self.onehot_encoder is None:\n",
    "            raise ValueError(\"OneHot encoder belum di-fit. Jalankan fit_preprocessors() terlebih dahulu.\")\n",
    "        smoking_history_encoded = self.onehot_encoder.transform(X[['smoking_history']])\n",
    "        smoking_history_df = pd.DataFrame(\n",
    "            smoking_history_encoded, \n",
    "            columns=self.onehot_encoder.get_feature_names_out(['smoking_history']), \n",
    "            index=X.index\n",
    "        )\n",
    "        X = pd.concat([X.drop(columns=['smoking_history']), smoking_history_df], axis=1)\n",
    "        \n",
    "        # Scaling untuk fitur numerik\n",
    "        if self.scaler is None:\n",
    "            raise ValueError(\"Scaler belum di-fit. Jalankan fit_preprocessors() terlebih dahulu.\")\n",
    "        X[self.numeric_features] = self.scaler.transform(X[self.numeric_features])\n",
    "        \n",
    "        return X.values.astype(np.float32)\n",
    "    \n",
    "    def predict(self, data):\n",
    "        \"\"\"\n",
    "        Prediksi cluster menggunakan model TFLite\n",
    "        \n",
    "        Args:\n",
    "            data (pd.DataFrame): Data yang akan diprediksi\n",
    "            \n",
    "        Returns:\n",
    "            tuple: (predicted_clusters, probabilities)\n",
    "        \"\"\"\n",
    "        # Preprocessing data\n",
    "        X_processed = self.preprocess_data(data)\n",
    "        \n",
    "        # Prediksi untuk setiap sample\n",
    "        predictions = []\n",
    "        probabilities = []\n",
    "        \n",
    "        for i in range(X_processed.shape[0]):\n",
    "            # Set input tensor\n",
    "            self.interpreter.set_tensor(self.input_details[0]['index'], X_processed[i:i+1])\n",
    "            \n",
    "            # Run inference\n",
    "            self.interpreter.invoke()\n",
    "            \n",
    "            # Get output\n",
    "            output_data = self.interpreter.get_tensor(self.output_details[0]['index'])\n",
    "            probabilities.append(output_data[0])\n",
    "            predictions.append(np.argmax(output_data[0]))\n",
    "        \n",
    "        return np.array(predictions), np.array(probabilities)\n",
    "    \n",
    "    def predict_single(self, gender, age, hypertension, heart_disease, bmi, HbA1c_level, blood_glucose_level, smoking_history):\n",
    "        \"\"\"\n",
    "        Prediksi cluster untuk satu sample\n",
    "        \n",
    "        Args:\n",
    "            gender (str): Gender ('Male' atau 'Female')\n",
    "            age (float): Umur\n",
    "            hypertension (int): Hipertensi (0 atau 1)\n",
    "            heart_disease (int): Penyakit jantung (0 atau 1)\n",
    "            bmi (float): BMI\n",
    "            HbA1c_level (float): Level HbA1c\n",
    "            blood_glucose_level (float): Level glukosa darah\n",
    "            smoking_history (str): Riwayat merokok ('never', 'former', 'current', 'not current', 'No Info')\n",
    "            \n",
    "        Returns:\n",
    "            tuple: (predicted_cluster, probabilities)\n",
    "        \"\"\"\n",
    "        # Buat DataFrame untuk satu sample\n",
    "        data = pd.DataFrame({\n",
    "            'gender': [gender],\n",
    "            'age': [age],\n",
    "            'hypertension': [hypertension],\n",
    "            'heart_disease': [heart_disease],\n",
    "            'bmi': [bmi],\n",
    "            'HbA1c_level': [HbA1c_level],\n",
    "            'blood_glucose_level': [blood_glucose_level],\n",
    "            'smoking_history': [smoking_history]\n",
    "        })\n",
    "        \n",
    "        predictions, probabilities = self.predict(data)\n",
    "        return predictions[0], probabilities[0]\n",
    "\n",
    "# Ambil data original sebelum preprocessing untuk fitting preprocessors\n",
    "X_original = df.drop(columns=['Cluster', 'diabetes'])\n",
    "y_original = df['Cluster']\n",
    "\n",
    "# Split dengan cara yang sama untuk mendapatkan X_train_original\n",
    "X_train_original, X_temp_original, y_train_original, y_temp_original = train_test_split(\n",
    "    X_original, y_original, test_size=0.2, stratify=y_original, random_state=42)\n",
    "\n",
    "# Inisialisasi predictor dan fit preprocessors dengan data training original\n",
    "predictor = ClusterPredictor('cluster_predictor.tflite')\n",
    "predictor.fit_preprocessors(X_train_original)\n",
    "\n",
    "print(\"\\n✅ ClusterPredictor berhasil diinisialisasi dan siap digunakan!\")\n",
    "print(f\"Smoking history categories: {predictor.onehot_encoder.categories_[0]}\")\n",
    "print(f\"Gender categories: {predictor.label_encoder.classes_}\")"
   ]
  },
  {
   "cell_type": "code",
   "execution_count": 25,
   "metadata": {
    "execution": {
     "iopub.execute_input": "2025-05-29T14:09:32.705929Z",
     "iopub.status.busy": "2025-05-29T14:09:32.705397Z",
     "iopub.status.idle": "2025-05-29T14:09:32.720874Z",
     "shell.execute_reply": "2025-05-29T14:09:32.720256Z",
     "shell.execute_reply.started": "2025-05-29T14:09:32.705908Z"
    },
    "trusted": true
   },
   "outputs": [
    {
     "data": {
      "text/html": [
       "<div>\n",
       "<style scoped>\n",
       "    .dataframe tbody tr th:only-of-type {\n",
       "        vertical-align: middle;\n",
       "    }\n",
       "\n",
       "    .dataframe tbody tr th {\n",
       "        vertical-align: top;\n",
       "    }\n",
       "\n",
       "    .dataframe thead th {\n",
       "        text-align: right;\n",
       "    }\n",
       "</style>\n",
       "<table border=\"1\" class=\"dataframe\">\n",
       "  <thead>\n",
       "    <tr style=\"text-align: right;\">\n",
       "      <th></th>\n",
       "      <th>gender</th>\n",
       "      <th>age</th>\n",
       "      <th>hypertension</th>\n",
       "      <th>heart_disease</th>\n",
       "      <th>bmi</th>\n",
       "      <th>HbA1c_level</th>\n",
       "      <th>blood_glucose_level</th>\n",
       "      <th>smoking_history</th>\n",
       "      <th>diabetes</th>\n",
       "      <th>Cluster</th>\n",
       "    </tr>\n",
       "  </thead>\n",
       "  <tbody>\n",
       "    <tr>\n",
       "      <th>2</th>\n",
       "      <td>Male</td>\n",
       "      <td>28.0</td>\n",
       "      <td>0</td>\n",
       "      <td>0</td>\n",
       "      <td>27.32</td>\n",
       "      <td>5.7</td>\n",
       "      <td>158.0</td>\n",
       "      <td>never_smoke</td>\n",
       "      <td>0</td>\n",
       "      <td>3</td>\n",
       "    </tr>\n",
       "    <tr>\n",
       "      <th>3</th>\n",
       "      <td>Female</td>\n",
       "      <td>36.0</td>\n",
       "      <td>0</td>\n",
       "      <td>0</td>\n",
       "      <td>23.45</td>\n",
       "      <td>5.0</td>\n",
       "      <td>155.0</td>\n",
       "      <td>current_smoke</td>\n",
       "      <td>0</td>\n",
       "      <td>3</td>\n",
       "    </tr>\n",
       "    <tr>\n",
       "      <th>4</th>\n",
       "      <td>Male</td>\n",
       "      <td>76.0</td>\n",
       "      <td>1</td>\n",
       "      <td>1</td>\n",
       "      <td>20.14</td>\n",
       "      <td>4.8</td>\n",
       "      <td>155.0</td>\n",
       "      <td>current_smoke</td>\n",
       "      <td>0</td>\n",
       "      <td>3</td>\n",
       "    </tr>\n",
       "    <tr>\n",
       "      <th>5</th>\n",
       "      <td>Female</td>\n",
       "      <td>20.0</td>\n",
       "      <td>0</td>\n",
       "      <td>0</td>\n",
       "      <td>27.32</td>\n",
       "      <td>6.6</td>\n",
       "      <td>85.0</td>\n",
       "      <td>never_smoke</td>\n",
       "      <td>0</td>\n",
       "      <td>3</td>\n",
       "    </tr>\n",
       "    <tr>\n",
       "      <th>6</th>\n",
       "      <td>Female</td>\n",
       "      <td>44.0</td>\n",
       "      <td>0</td>\n",
       "      <td>0</td>\n",
       "      <td>19.31</td>\n",
       "      <td>6.5</td>\n",
       "      <td>200.0</td>\n",
       "      <td>never_smoke</td>\n",
       "      <td>1</td>\n",
       "      <td>3</td>\n",
       "    </tr>\n",
       "  </tbody>\n",
       "</table>\n",
       "</div>"
      ],
      "text/plain": [
       "   gender   age  hypertension  heart_disease    bmi  HbA1c_level  \\\n",
       "2    Male  28.0             0              0  27.32          5.7   \n",
       "3  Female  36.0             0              0  23.45          5.0   \n",
       "4    Male  76.0             1              1  20.14          4.8   \n",
       "5  Female  20.0             0              0  27.32          6.6   \n",
       "6  Female  44.0             0              0  19.31          6.5   \n",
       "\n",
       "   blood_glucose_level smoking_history  diabetes  Cluster  \n",
       "2                158.0     never_smoke         0        3  \n",
       "3                155.0   current_smoke         0        3  \n",
       "4                155.0   current_smoke         0        3  \n",
       "5                 85.0     never_smoke         0        3  \n",
       "6                200.0     never_smoke         1        3  "
      ]
     },
     "execution_count": 25,
     "metadata": {},
     "output_type": "execute_result"
    }
   ],
   "source": [
    "df[df['Cluster'] == 3].head()"
   ]
  },
  {
   "cell_type": "code",
   "execution_count": 23,
   "metadata": {
    "execution": {
     "iopub.execute_input": "2025-05-29T13:51:57.240555Z",
     "iopub.status.busy": "2025-05-29T13:51:57.239948Z",
     "iopub.status.idle": "2025-05-29T13:51:57.255233Z",
     "shell.execute_reply": "2025-05-29T13:51:57.254396Z",
     "shell.execute_reply.started": "2025-05-29T13:51:57.240532Z"
    },
    "trusted": true
   },
   "outputs": [
    {
     "name": "stdout",
     "output_type": "stream",
     "text": [
      "\n",
      "=== Contoh Prediksi Single Sample ===\n",
      "\n",
      "Hasil Prediksi:\n",
      "  Predicted Cluster: 3\n",
      "  Confidence: 1.000\n",
      "  All Probabilities: [9.1099558e-11 3.0956312e-18 1.0781332e-12 1.0000000e+00]\n"
     ]
    }
   ],
   "source": [
    "# Contoh penggunaan untuk prediksi single sample\n",
    "print(\"\\n=== Contoh Prediksi Single Sample ===\")\n",
    "\n",
    "# Contoh data baru - pastikan menggunakan nilai yang valid\n",
    "predicted_cluster, probabilities = predictor.predict_single(\n",
    "    gender='Female',\n",
    "    age=44.0,\n",
    "    hypertension=0,\n",
    "    heart_disease=0,\n",
    "    bmi=19.31,\n",
    "    HbA1c_level=6.5,\n",
    "    blood_glucose_level=200.0,\n",
    "    smoking_history='never_smoke'  # Pastikan ini adalah salah satu dari: 'never', 'former', 'current', 'not current', 'No Info'\n",
    ")\n",
    "print(f\"\\nHasil Prediksi:\")\n",
    "print(f\"  Predicted Cluster: {predicted_cluster}\")\n",
    "print(f\"  Confidence: {probabilities.max():.3f}\")\n",
    "print(f\"  All Probabilities: {probabilities}\")"
   ]
  },
  {
   "cell_type": "markdown",
   "metadata": {},
   "source": [
    "# Konversi TFJS"
   ]
  },
  {
   "cell_type": "code",
   "execution_count": 19,
   "metadata": {
    "execution": {
     "iopub.execute_input": "2025-05-29T13:50:37.382718Z",
     "iopub.status.busy": "2025-05-29T13:50:37.382304Z",
     "iopub.status.idle": "2025-05-29T13:50:37.421889Z",
     "shell.execute_reply": "2025-05-29T13:50:37.421108Z",
     "shell.execute_reply.started": "2025-05-29T13:50:37.382695Z"
    },
    "trusted": true
   },
   "outputs": [
    {
     "name": "stdout",
     "output_type": "stream",
     "text": [
      "Model Keras berhasil disimpan sebagai 'cluster_predictor.h5'\n"
     ]
    }
   ],
   "source": [
    "model.save('cluster_predictor.h5')\n",
    "print(\"Model Keras berhasil disimpan sebagai 'cluster_predictor.h5'\")\n",
    "# !tensorflowjs_converter --input_format=keras cluster_predictor.h5 tfjs_model"
   ]
  },
  {
   "cell_type": "code",
   "execution_count": 20,
   "metadata": {
    "execution": {
     "iopub.execute_input": "2025-05-29T13:50:37.422910Z",
     "iopub.status.busy": "2025-05-29T13:50:37.422654Z",
     "iopub.status.idle": "2025-05-29T13:50:52.298109Z",
     "shell.execute_reply": "2025-05-29T13:50:52.297342Z",
     "shell.execute_reply.started": "2025-05-29T13:50:37.422889Z"
    },
    "trusted": true
   },
   "outputs": [
    {
     "name": "stdout",
     "output_type": "stream",
     "text": [
      "Collecting tensorflowjs\n",
      "  Downloading tensorflowjs-4.22.0-py3-none-any.whl.metadata (3.2 kB)\n",
      "Requirement already satisfied: flax>=0.7.2 in /usr/local/lib/python3.11/dist-packages (from tensorflowjs) (0.10.5)\n",
      "Requirement already satisfied: importlib_resources>=5.9.0 in /usr/local/lib/python3.11/dist-packages (from tensorflowjs) (6.5.2)\n",
      "Requirement already satisfied: jax>=0.4.13 in /usr/local/lib/python3.11/dist-packages (from tensorflowjs) (0.5.2)\n",
      "Requirement already satisfied: jaxlib>=0.4.13 in /usr/local/lib/python3.11/dist-packages (from tensorflowjs) (0.5.1)\n",
      "Requirement already satisfied: tensorflow<3,>=2.13.0 in /usr/local/lib/python3.11/dist-packages (from tensorflowjs) (2.18.0)\n",
      "Requirement already satisfied: tf-keras>=2.13.0 in /usr/local/lib/python3.11/dist-packages (from tensorflowjs) (2.18.0)\n",
      "Requirement already satisfied: tensorflow-decision-forests>=1.5.0 in /usr/local/lib/python3.11/dist-packages (from tensorflowjs) (1.11.0)\n",
      "Requirement already satisfied: six<2,>=1.16.0 in /usr/local/lib/python3.11/dist-packages (from tensorflowjs) (1.17.0)\n",
      "Requirement already satisfied: tensorflow-hub>=0.16.1 in /usr/local/lib/python3.11/dist-packages (from tensorflowjs) (0.16.1)\n",
      "Collecting packaging~=23.1 (from tensorflowjs)\n",
      "  Downloading packaging-23.2-py3-none-any.whl.metadata (3.2 kB)\n",
      "Requirement already satisfied: numpy>=1.23.2 in /usr/local/lib/python3.11/dist-packages (from flax>=0.7.2->tensorflowjs) (1.26.4)\n",
      "Requirement already satisfied: msgpack in /usr/local/lib/python3.11/dist-packages (from flax>=0.7.2->tensorflowjs) (1.1.0)\n",
      "Requirement already satisfied: optax in /usr/local/lib/python3.11/dist-packages (from flax>=0.7.2->tensorflowjs) (0.2.4)\n",
      "Requirement already satisfied: orbax-checkpoint in /usr/local/lib/python3.11/dist-packages (from flax>=0.7.2->tensorflowjs) (0.11.10)\n",
      "Requirement already satisfied: tensorstore in /usr/local/lib/python3.11/dist-packages (from flax>=0.7.2->tensorflowjs) (0.1.73)\n",
      "Requirement already satisfied: rich>=11.1 in /usr/local/lib/python3.11/dist-packages (from flax>=0.7.2->tensorflowjs) (14.0.0)\n",
      "Requirement already satisfied: typing_extensions>=4.2 in /usr/local/lib/python3.11/dist-packages (from flax>=0.7.2->tensorflowjs) (4.13.2)\n",
      "Requirement already satisfied: PyYAML>=5.4.1 in /usr/local/lib/python3.11/dist-packages (from flax>=0.7.2->tensorflowjs) (6.0.2)\n",
      "Requirement already satisfied: treescope>=0.1.7 in /usr/local/lib/python3.11/dist-packages (from flax>=0.7.2->tensorflowjs) (0.1.9)\n",
      "Requirement already satisfied: ml_dtypes>=0.4.0 in /usr/local/lib/python3.11/dist-packages (from jax>=0.4.13->tensorflowjs) (0.4.1)\n",
      "Requirement already satisfied: opt_einsum in /usr/local/lib/python3.11/dist-packages (from jax>=0.4.13->tensorflowjs) (3.4.0)\n",
      "Requirement already satisfied: scipy>=1.11.1 in /usr/local/lib/python3.11/dist-packages (from jax>=0.4.13->tensorflowjs) (1.15.2)\n",
      "Requirement already satisfied: absl-py>=1.0.0 in /usr/local/lib/python3.11/dist-packages (from tensorflow<3,>=2.13.0->tensorflowjs) (1.4.0)\n",
      "Requirement already satisfied: astunparse>=1.6.0 in /usr/local/lib/python3.11/dist-packages (from tensorflow<3,>=2.13.0->tensorflowjs) (1.6.3)\n",
      "Requirement already satisfied: flatbuffers>=24.3.25 in /usr/local/lib/python3.11/dist-packages (from tensorflow<3,>=2.13.0->tensorflowjs) (25.2.10)\n",
      "Requirement already satisfied: gast!=0.5.0,!=0.5.1,!=0.5.2,>=0.2.1 in /usr/local/lib/python3.11/dist-packages (from tensorflow<3,>=2.13.0->tensorflowjs) (0.6.0)\n",
      "Requirement already satisfied: google-pasta>=0.1.1 in /usr/local/lib/python3.11/dist-packages (from tensorflow<3,>=2.13.0->tensorflowjs) (0.2.0)\n",
      "Requirement already satisfied: libclang>=13.0.0 in /usr/local/lib/python3.11/dist-packages (from tensorflow<3,>=2.13.0->tensorflowjs) (18.1.1)\n",
      "Requirement already satisfied: protobuf!=4.21.0,!=4.21.1,!=4.21.2,!=4.21.3,!=4.21.4,!=4.21.5,<6.0.0dev,>=3.20.3 in /usr/local/lib/python3.11/dist-packages (from tensorflow<3,>=2.13.0->tensorflowjs) (3.20.3)\n",
      "Requirement already satisfied: requests<3,>=2.21.0 in /usr/local/lib/python3.11/dist-packages (from tensorflow<3,>=2.13.0->tensorflowjs) (2.32.3)\n",
      "Requirement already satisfied: setuptools in /usr/local/lib/python3.11/dist-packages (from tensorflow<3,>=2.13.0->tensorflowjs) (75.2.0)\n",
      "Requirement already satisfied: termcolor>=1.1.0 in /usr/local/lib/python3.11/dist-packages (from tensorflow<3,>=2.13.0->tensorflowjs) (3.0.1)\n",
      "Requirement already satisfied: wrapt>=1.11.0 in /usr/local/lib/python3.11/dist-packages (from tensorflow<3,>=2.13.0->tensorflowjs) (1.17.2)\n",
      "Requirement already satisfied: grpcio<2.0,>=1.24.3 in /usr/local/lib/python3.11/dist-packages (from tensorflow<3,>=2.13.0->tensorflowjs) (1.72.0rc1)\n",
      "Requirement already satisfied: tensorboard<2.19,>=2.18 in /usr/local/lib/python3.11/dist-packages (from tensorflow<3,>=2.13.0->tensorflowjs) (2.18.0)\n",
      "Requirement already satisfied: keras>=3.5.0 in /usr/local/lib/python3.11/dist-packages (from tensorflow<3,>=2.13.0->tensorflowjs) (3.8.0)\n",
      "Requirement already satisfied: h5py>=3.11.0 in /usr/local/lib/python3.11/dist-packages (from tensorflow<3,>=2.13.0->tensorflowjs) (3.13.0)\n",
      "Requirement already satisfied: tensorflow-io-gcs-filesystem>=0.23.1 in /usr/local/lib/python3.11/dist-packages (from tensorflow<3,>=2.13.0->tensorflowjs) (0.37.1)\n",
      "Requirement already satisfied: pandas in /usr/local/lib/python3.11/dist-packages (from tensorflow-decision-forests>=1.5.0->tensorflowjs) (2.2.3)\n",
      "Requirement already satisfied: wheel in /usr/local/lib/python3.11/dist-packages (from tensorflow-decision-forests>=1.5.0->tensorflowjs) (0.45.1)\n",
      "Requirement already satisfied: wurlitzer in /usr/local/lib/python3.11/dist-packages (from tensorflow-decision-forests>=1.5.0->tensorflowjs) (3.1.1)\n",
      "Requirement already satisfied: ydf in /usr/local/lib/python3.11/dist-packages (from tensorflow-decision-forests>=1.5.0->tensorflowjs) (0.9.0)\n",
      "Requirement already satisfied: namex in /usr/local/lib/python3.11/dist-packages (from keras>=3.5.0->tensorflow<3,>=2.13.0->tensorflowjs) (0.0.8)\n",
      "Requirement already satisfied: optree in /usr/local/lib/python3.11/dist-packages (from keras>=3.5.0->tensorflow<3,>=2.13.0->tensorflowjs) (0.14.1)\n",
      "Requirement already satisfied: mkl_fft in /usr/local/lib/python3.11/dist-packages (from numpy>=1.23.2->flax>=0.7.2->tensorflowjs) (1.3.8)\n",
      "Requirement already satisfied: mkl_random in /usr/local/lib/python3.11/dist-packages (from numpy>=1.23.2->flax>=0.7.2->tensorflowjs) (1.2.4)\n",
      "Requirement already satisfied: mkl_umath in /usr/local/lib/python3.11/dist-packages (from numpy>=1.23.2->flax>=0.7.2->tensorflowjs) (0.1.1)\n",
      "Requirement already satisfied: mkl in /usr/local/lib/python3.11/dist-packages (from numpy>=1.23.2->flax>=0.7.2->tensorflowjs) (2025.1.0)\n",
      "Requirement already satisfied: tbb4py in /usr/local/lib/python3.11/dist-packages (from numpy>=1.23.2->flax>=0.7.2->tensorflowjs) (2022.1.0)\n",
      "Requirement already satisfied: mkl-service in /usr/local/lib/python3.11/dist-packages (from numpy>=1.23.2->flax>=0.7.2->tensorflowjs) (2.4.1)\n",
      "Requirement already satisfied: charset-normalizer<4,>=2 in /usr/local/lib/python3.11/dist-packages (from requests<3,>=2.21.0->tensorflow<3,>=2.13.0->tensorflowjs) (3.4.2)\n",
      "Requirement already satisfied: idna<4,>=2.5 in /usr/local/lib/python3.11/dist-packages (from requests<3,>=2.21.0->tensorflow<3,>=2.13.0->tensorflowjs) (3.10)\n",
      "Requirement already satisfied: urllib3<3,>=1.21.1 in /usr/local/lib/python3.11/dist-packages (from requests<3,>=2.21.0->tensorflow<3,>=2.13.0->tensorflowjs) (2.4.0)\n",
      "Requirement already satisfied: certifi>=2017.4.17 in /usr/local/lib/python3.11/dist-packages (from requests<3,>=2.21.0->tensorflow<3,>=2.13.0->tensorflowjs) (2025.4.26)\n",
      "Requirement already satisfied: markdown-it-py>=2.2.0 in /usr/local/lib/python3.11/dist-packages (from rich>=11.1->flax>=0.7.2->tensorflowjs) (3.0.0)\n",
      "Requirement already satisfied: pygments<3.0.0,>=2.13.0 in /usr/local/lib/python3.11/dist-packages (from rich>=11.1->flax>=0.7.2->tensorflowjs) (2.19.1)\n",
      "Requirement already satisfied: markdown>=2.6.8 in /usr/local/lib/python3.11/dist-packages (from tensorboard<2.19,>=2.18->tensorflow<3,>=2.13.0->tensorflowjs) (3.7)\n",
      "Requirement already satisfied: tensorboard-data-server<0.8.0,>=0.7.0 in /usr/local/lib/python3.11/dist-packages (from tensorboard<2.19,>=2.18->tensorflow<3,>=2.13.0->tensorflowjs) (0.7.2)\n",
      "Requirement already satisfied: werkzeug>=1.0.1 in /usr/local/lib/python3.11/dist-packages (from tensorboard<2.19,>=2.18->tensorflow<3,>=2.13.0->tensorflowjs) (3.1.3)\n",
      "Requirement already satisfied: chex>=0.1.87 in /usr/local/lib/python3.11/dist-packages (from optax->flax>=0.7.2->tensorflowjs) (0.1.89)\n",
      "Requirement already satisfied: etils[epy] in /usr/local/lib/python3.11/dist-packages (from optax->flax>=0.7.2->tensorflowjs) (1.12.2)\n",
      "Requirement already satisfied: nest_asyncio in /usr/local/lib/python3.11/dist-packages (from orbax-checkpoint->flax>=0.7.2->tensorflowjs) (1.6.0)\n",
      "Requirement already satisfied: humanize in /usr/local/lib/python3.11/dist-packages (from orbax-checkpoint->flax>=0.7.2->tensorflowjs) (4.12.2)\n",
      "Requirement already satisfied: simplejson>=3.16.0 in /usr/local/lib/python3.11/dist-packages (from orbax-checkpoint->flax>=0.7.2->tensorflowjs) (3.20.1)\n",
      "Requirement already satisfied: python-dateutil>=2.8.2 in /usr/local/lib/python3.11/dist-packages (from pandas->tensorflow-decision-forests>=1.5.0->tensorflowjs) (2.9.0.post0)\n",
      "Requirement already satisfied: pytz>=2020.1 in /usr/local/lib/python3.11/dist-packages (from pandas->tensorflow-decision-forests>=1.5.0->tensorflowjs) (2025.2)\n",
      "Requirement already satisfied: tzdata>=2022.7 in /usr/local/lib/python3.11/dist-packages (from pandas->tensorflow-decision-forests>=1.5.0->tensorflowjs) (2025.2)\n",
      "Requirement already satisfied: toolz>=0.9.0 in /usr/local/lib/python3.11/dist-packages (from chex>=0.1.87->optax->flax>=0.7.2->tensorflowjs) (1.0.0)\n",
      "Requirement already satisfied: mdurl~=0.1 in /usr/local/lib/python3.11/dist-packages (from markdown-it-py>=2.2.0->rich>=11.1->flax>=0.7.2->tensorflowjs) (0.1.2)\n",
      "Requirement already satisfied: MarkupSafe>=2.1.1 in /usr/local/lib/python3.11/dist-packages (from werkzeug>=1.0.1->tensorboard<2.19,>=2.18->tensorflow<3,>=2.13.0->tensorflowjs) (3.0.2)\n",
      "Requirement already satisfied: fsspec in /usr/local/lib/python3.11/dist-packages (from etils[epath,epy]->orbax-checkpoint->flax>=0.7.2->tensorflowjs) (2025.3.2)\n",
      "Requirement already satisfied: zipp in /usr/local/lib/python3.11/dist-packages (from etils[epath,epy]->orbax-checkpoint->flax>=0.7.2->tensorflowjs) (3.21.0)\n",
      "Requirement already satisfied: intel-openmp<2026,>=2024 in /usr/local/lib/python3.11/dist-packages (from mkl->numpy>=1.23.2->flax>=0.7.2->tensorflowjs) (2024.2.0)\n",
      "Requirement already satisfied: tbb==2022.* in /usr/local/lib/python3.11/dist-packages (from mkl->numpy>=1.23.2->flax>=0.7.2->tensorflowjs) (2022.1.0)\n",
      "Requirement already satisfied: tcmlib==1.* in /usr/local/lib/python3.11/dist-packages (from tbb==2022.*->mkl->numpy>=1.23.2->flax>=0.7.2->tensorflowjs) (1.3.0)\n",
      "Requirement already satisfied: intel-cmplr-lib-rt in /usr/local/lib/python3.11/dist-packages (from mkl_umath->numpy>=1.23.2->flax>=0.7.2->tensorflowjs) (2024.2.0)\n",
      "Requirement already satisfied: intel-cmplr-lib-ur==2024.2.0 in /usr/local/lib/python3.11/dist-packages (from intel-openmp<2026,>=2024->mkl->numpy>=1.23.2->flax>=0.7.2->tensorflowjs) (2024.2.0)\n",
      "Downloading tensorflowjs-4.22.0-py3-none-any.whl (89 kB)\n",
      "\u001b[2K   \u001b[90m━━━━━━━━━━━━━━━━━━━━━━━━━━━━━━━━━━━━━━━━\u001b[0m \u001b[32m89.1/89.1 kB\u001b[0m \u001b[31m2.9 MB/s\u001b[0m eta \u001b[36m0:00:00\u001b[0m\n",
      "\u001b[?25hDownloading packaging-23.2-py3-none-any.whl (53 kB)\n",
      "\u001b[2K   \u001b[90m━━━━━━━━━━━━━━━━━━━━━━━━━━━━━━━━━━━━━━━━\u001b[0m \u001b[32m53.0/53.0 kB\u001b[0m \u001b[31m2.8 MB/s\u001b[0m eta \u001b[36m0:00:00\u001b[0m\n",
      "\u001b[?25hInstalling collected packages: packaging, tensorflowjs\n",
      "  Attempting uninstall: packaging\n",
      "    Found existing installation: packaging 25.0\n",
      "    Uninstalling packaging-25.0:\n",
      "      Successfully uninstalled packaging-25.0\n",
      "\u001b[31mERROR: pip's dependency resolver does not currently take into account all the packages that are installed. This behaviour is the source of the following dependency conflicts.\n",
      "datasets 3.6.0 requires fsspec[http]<=2025.3.0,>=2023.1.0, but you have fsspec 2025.3.2 which is incompatible.\n",
      "cesium 0.12.4 requires numpy<3.0,>=2.0, but you have numpy 1.26.4 which is incompatible.\n",
      "bigframes 1.42.0 requires rich<14,>=12.4.4, but you have rich 14.0.0 which is incompatible.\n",
      "plotnine 0.14.5 requires matplotlib>=3.8.0, but you have matplotlib 3.7.2 which is incompatible.\n",
      "pandas-gbq 0.28.0 requires google-api-core<3.0.0dev,>=2.10.2, but you have google-api-core 1.34.1 which is incompatible.\n",
      "mlxtend 0.23.4 requires scikit-learn>=1.3.1, but you have scikit-learn 1.2.2 which is incompatible.\u001b[0m\u001b[31m\n",
      "\u001b[0mSuccessfully installed packaging-23.2 tensorflowjs-4.22.0\n",
      "2025-05-29 13:50:44.254094: E external/local_xla/xla/stream_executor/cuda/cuda_fft.cc:477] Unable to register cuFFT factory: Attempting to register factory for plugin cuFFT when one has already been registered\n",
      "WARNING: All log messages before absl::InitializeLog() is called are written to STDERR\n",
      "E0000 00:00:1748526644.276904     248 cuda_dnn.cc:8310] Unable to register cuDNN factory: Attempting to register factory for plugin cuDNN when one has already been registered\n",
      "E0000 00:00:1748526644.283822     248 cuda_blas.cc:1418] Unable to register cuBLAS factory: Attempting to register factory for plugin cuBLAS when one has already been registered\n",
      "\u001b[32m🌲 Try \u001b[0m\u001b[34mhttps://ydf.readthedocs.io\u001b[0m\u001b[32m, the successor of TensorFlow Decision Forests with more features and faster training!\u001b[0m\n",
      "Traceback (most recent call last):\n",
      "  File \"/usr/local/bin/tensorflowjs_converter\", line 8, in <module>\n",
      "    sys.exit(pip_main())\n",
      "             ^^^^^^^^^^\n",
      "  File \"/usr/local/lib/python3.11/dist-packages/tensorflowjs/converters/converter.py\", line 959, in pip_main\n",
      "    main([' '.join(sys.argv[1:])])\n",
      "  File \"/usr/local/lib/python3.11/dist-packages/tensorflowjs/converters/converter.py\", line 963, in main\n",
      "    convert(argv[0].split(' '))\n",
      "  File \"/usr/local/lib/python3.11/dist-packages/tensorflowjs/converters/converter.py\", line 949, in convert\n",
      "    _dispatch_converter(input_format, output_format, args, quantization_dtype_map,\n",
      "  File \"/usr/local/lib/python3.11/dist-packages/tensorflowjs/converters/converter.py\", line 619, in _dispatch_converter\n",
      "    dispatch_keras_h5_to_tfjs_layers_model_conversion(\n",
      "  File \"/usr/local/lib/python3.11/dist-packages/tensorflowjs/converters/converter.py\", line 78, in dispatch_keras_h5_to_tfjs_layers_model_conversion\n",
      "    raise ValueError('Nonexistent path to HDF5 file: %s' % h5_path)\n",
      "ValueError: Nonexistent path to HDF5 file: kaggle/input/dataset-cluster-diabetes/cluster_predictor.h5\n"
     ]
    }
   ],
   "source": [
    "!pip install tensorflowjs\n",
    "!tensorflowjs_converter --input_format=keras kaggle/input/dataset-cluster-diabetes/cluster_predictor.h5 tfjs_model"
   ]
  }
 ],
 "metadata": {
  "kaggle": {
   "accelerator": "nvidiaTeslaT4",
   "dataSources": [
    {
     "datasetId": 7541251,
     "sourceId": 11989707,
     "sourceType": "datasetVersion"
    }
   ],
   "dockerImageVersionId": 31042,
   "isGpuEnabled": true,
   "isInternetEnabled": true,
   "language": "python",
   "sourceType": "notebook"
  },
  "kernelspec": {
   "display_name": "Python 3",
   "language": "python",
   "name": "python3"
  },
  "language_info": {
   "codemirror_mode": {
    "name": "ipython",
    "version": 3
   },
   "file_extension": ".py",
   "mimetype": "text/x-python",
   "name": "python",
   "nbconvert_exporter": "python",
   "pygments_lexer": "ipython3",
   "version": "3.11.11"
  }
 },
 "nbformat": 4,
 "nbformat_minor": 4
}
